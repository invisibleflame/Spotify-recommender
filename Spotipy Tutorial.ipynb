{
 "cells": [
  {
   "cell_type": "code",
   "execution_count": null,
   "metadata": {},
   "outputs": [],
   "source": [
    "!pip install spotipy"
   ]
  },
  {
   "cell_type": "code",
   "execution_count": 2,
   "metadata": {},
   "outputs": [],
   "source": [
    "import spotipy\n",
    "from spotipy import SpotifyClientCredentials, util\n",
    "import pandas as pd\n",
    "import os\n",
    "\n",
    "os.environ['SPOTIPY_CLIENT_ID'] ='enter client id'\n",
    "os.environ['SPOTIPY_CLIENT_SECRET'] ='enter your id'\n",
    "os.environ['SPOTIPY_REDIRECT_URI'] ='http://bhuvanaggarwal.tech/'\n",
    "\n",
    "username = 'enter username'"
   ]
  },
  {
   "cell_type": "code",
   "execution_count": null,
   "metadata": {
    "scrolled": false
   },
   "outputs": [],
   "source": [
    "import spotipy\n",
    "from spotipy.oauth2 import SpotifyOAuth\n",
    "scope = \"user-read-private, streaming, playlist-read-collaborative, user-library-read,user-read-email, playlist-read-private, user-read-playback-position, user-library-modify, user-follow-read, user-read-currently-playing, user-follow-modify, playlist-modify-private, user-modify-playback-state, playlist-modify-public, app-remote-control, user-top-read, user-read-playback-state, user-read-recently-played,\"\n",
    "sp = spotipy.Spotify(auth_manager=SpotifyOAuth(scope=scope))"
   ]
  },
  {
   "cell_type": "code",
   "execution_count": 128,
   "metadata": {},
   "outputs": [
    {
     "name": "stdout",
     "output_type": "stream",
     "text": [
      "0 Ariana Grande  –  7 rings\n",
      "1 Robin Hustin  –  Light It Up\n",
      "2 Robin Hustin  –  Light It Up\n",
      "3 Céline Dion  –  My Heart Will Go On - Love Theme from \"Titanic\"\n",
      "4 Ellie Goulding  –  Burn\n",
      "5 League of Legends  –  Legends Never Die - (Remix)\n",
      "6 NEFFEX  –  Best of Me\n",
      "7 Sachin-Jigar  –  Saibo\n",
      "8 Taylor Swift  –  Blank Space\n",
      "9 Katy Perry  –  Last Friday Night (T.G.I.F.)\n",
      "10 Katy Perry  –  Firework\n",
      "11 Eminem  –  Love The Way You Lie\n",
      "12 Shakira  –  Waka Waka (This Time for Africa) [The Official 2010 FIFA World Cup (TM) Song] (feat. Freshlyground)\n",
      "13 Carlos Vives  –  La Bicicleta (feat. Maluma) - Remix\n",
      "14 Shakira  –  La La La\n",
      "15 Ariana Grande  –  7 rings\n",
      "16 Robin Hustin  –  Light It Up\n",
      "17 Miley Cyrus  –  Wrecking Ball\n",
      "18 Céline Dion  –  My Heart Will Go On - Love Theme from \"Titanic\"\n",
      "19 Ellie Goulding  –  Burn\n",
      "20 League of Legends  –  Legends Never Die - (Remix)\n",
      "21 NEFFEX  –  Best of Me\n",
      "22 Sachin-Jigar  –  Saibo\n",
      "23 Céline Dion  –  My Heart Will Go On - Love Theme from \"Titanic\"\n",
      "24 Ellie Goulding  –  Burn\n",
      "25 League of Legends  –  Legends Never Die - (Remix)\n",
      "26 NEFFEX  –  Best of Me\n",
      "27 Sachin-Jigar  –  Saibo\n",
      "28 Robin Hustin  –  Light It Up\n",
      "29 Miley Cyrus  –  Wrecking Ball\n",
      "30 Céline Dion  –  My Heart Will Go On - Love Theme from \"Titanic\"\n",
      "31 Ellie Goulding  –  Burn\n",
      "32 League of Legends  –  Legends Never Die - (Remix)\n",
      "33 NEFFEX  –  Best of Me\n",
      "34 Sachin-Jigar  –  Saibo\n",
      "35 NEFFEX  –  Best of Me\n",
      "36 Sachin-Jigar  –  Saibo\n",
      "37 Céline Dion  –  My Heart Will Go On - Love Theme from \"Titanic\"\n",
      "38 Ellie Goulding  –  Burn\n",
      "39 League of Legends  –  Legends Never Die - (Remix)\n",
      "40 NEFFEX  –  Best of Me\n",
      "41 Sachin-Jigar  –  Saibo\n",
      "42 Ellie Goulding  –  Burn\n",
      "43 League of Legends  –  Legends Never Die - (Remix)\n",
      "44 NEFFEX  –  Best of Me\n",
      "45 Sachin-Jigar  –  Saibo\n",
      "46 League of Legends  –  Legends Never Die - (Remix)\n",
      "47 NEFFEX  –  Best of Me\n",
      "48 Sachin-Jigar  –  Saibo\n",
      "49 NEFFEX  –  Best of Me\n"
     ]
    }
   ],
   "source": [
    "results = sp.current_user_recently_played()\n",
    "for idx, item in enumerate(results['items']):\n",
    "    track = item['track']\n",
    "    print(idx, track['artists'][0]['name'], \" – \", track['name'])"
   ]
  },
  {
   "cell_type": "code",
   "execution_count": 107,
   "metadata": {},
   "outputs": [
    {
     "name": "stdout",
     "output_type": "stream",
     "text": [
      "Pritam\n",
      "Arijit Singh\n",
      "Alan Walker\n",
      "B Praak\n",
      "Taylor Swift\n",
      "Guru Randhawa\n",
      "Kishore Kumar\n",
      "Vishal-Shekhar\n",
      "Neha Kakkar\n",
      "Badshah\n",
      "Udit Narayan\n",
      "Zack Knight\n",
      "Kumar Sanu\n",
      "Sachet Tandon\n",
      "A.R. Rahman\n",
      "Asees Kaur\n",
      "Meet Bros.\n",
      "Sachin-Jigar\n",
      "Mika Singh\n",
      "Asha Bhosle\n"
     ]
    }
   ],
   "source": [
    "res=sp.current_user_top_artists()\n",
    "for x in res['items']:\n",
    "    print(x['name'])"
   ]
  },
  {
   "cell_type": "code",
   "execution_count": 99,
   "metadata": {},
   "outputs": [
    {
     "name": "stdout",
     "output_type": "stream",
     "text": [
      "6udC4b4jOSnHb9ItnXgKLR      Saibo    popularity: 67\n",
      "2BeY2dQPbD8xYxx3yhBTVD      Mann Mera (From \"Table No. 21\")    popularity: 63\n",
      "7zv0i1f8kTy8hPapkm28kz      Best of Me    popularity: 67\n",
      "1tnUbj8AI3PvxZNQZRTZmB      O Mere Khuda    popularity: 39\n",
      "7LLjVJVJEgK6Tyt1AwL0XQ      Deedar De (From \"Chhalaang\")    popularity: 55\n",
      "66YtIqT0kN4958EXnCnAmE      Legends Never Die - (Remix)    popularity: 68\n",
      "7DE0I3buHcns00C0YEsYsY      Filhall    popularity: 61\n",
      "6zojSFiUNySBy3Kd1JVCXb      Dil Chori    popularity: 56\n",
      "4LLvxxkWtt818FNO3cbsdo      Sauda Khara Khara    popularity: 60\n",
      "0ZHILXmUaVSLEOCWxPQ1ga      Makhna    popularity: 68\n",
      "3V3qab2wyi5LjGLjvbV4fD      Mast Kalandar    popularity: 43\n",
      "3zHq9ouUJQFQRf3cm1rRLu      Love Me Like You Do - From \"Fifty Shades Of Grey\"    popularity: 78\n",
      "4B2kkxg3wKSTZw5JPaUtzQ      On & On    popularity: 74\n",
      "1YIpi9FrVSr1wpzKNukm3J      Mafiyaan    popularity: 50\n",
      "5fXslGZPI5Cco6PKHzlSL3      Illegal Weapon 2.0 (From \"Street Dancer 3D\")    popularity: 65\n",
      "2nCKF3gkwHCamm3f0jNaJd      Love Mashup 2019    popularity: 60\n",
      "0OcVZqIer0LLu3K8sdU5Yb      Pyaar Tenu Karda Gabru (From \"Shubh Mangal Zyada Saavdhan\")    popularity: 60\n",
      "6N6mJlsjYRV0yoMSPS5JiQ      The Wakhra Song    popularity: 58\n",
      "0TK2YIli7K1leLovkQiNik      Señorita    popularity: 83\n",
      "1MhHomaXgrPMBroXkpWSSa      Valentine's Mashup 2019    popularity: 63\n",
      "5DUDLaokWUsRbU8XLuQM2y      Yaara Teri Yaari    popularity: 58\n",
      "0TkquWzzuxcrwbCWlTrKYF      Yaad Piya Ki Aane Lagi    popularity: 63\n",
      "3HFjh7QljnUCBLsoTwMuTj      Kya Mujhe Pyaar Hai    popularity: 63\n",
      "4ZTx87kAgEwlPMzoojFZWg      Tera Yaar Hoon Main    popularity: 61\n",
      "7020Soj3M5vRynZvhPSNHF      Holi Mashup 2020 –Festival Of Colours (2020) Mashup    popularity: 16\n",
      "25MPTnqXQB1H6OkwSYUXWx      Malang (Title Track) [From \"Malang - Unleash The Madness\"]    popularity: 66\n",
      "74qF0JeFMVilMEeFDiQZ48      Mummy Nu Pasand (From \"Jai Mummy Di\")    popularity: 57\n",
      "7jl8FKIm4v4RfaGXLEV0s6      Kehndi Haan Kehndi Naa    popularity: 53\n",
      "7sw49gd22TmoSW3sMGuHbn      Thumka    popularity: 49\n",
      "0JBhoxPKHJc1ZeJrjSt0VO      Tera Ghata    popularity: 62\n",
      "61eDLrQvquaTtZRnGFz9Kh      Lean On (with Emiway Bantai)    popularity: 48\n",
      "2GgxS8bUT5G25QJTsfSv0R      Burn    popularity: 71\n",
      "5p7ujcrUXASCNwRaWNHR1C      Without Me    popularity: 81\n",
      "2T8ORGKfqiml42VOmPvINJ      Hymn for the Weekend    popularity: 43\n",
      "60XrRbNjDMAGUZ2xLkU9W3      Hauli Hauli (From \"De De Pyaar De\")    popularity: 58\n",
      "1smFN2CLqGROu0J0UyvDfL      Shayad    popularity: 70\n",
      "17uI7afUaul1hCzMTF9txd      Ik Mulaqaat    popularity: 59\n",
      "4EJSB1r2u1mwmBJ8UOuq1F      Aashiq Banaya Aapne    popularity: 54\n",
      "3IzQc4KEAFd8lIc90X7FZr      The Jawaani Song    popularity: 59\n",
      "18YHbIhrleUkKKj2DvEp79      Zara Sa    popularity: 60\n",
      "0WdbnNKO0Jt4BZACSDQh44      Ghungroo (From \"War\")    popularity: 69\n",
      "6E9UwSfT80age2xknoMS7Y      Tum Hi Aana (From \"Marjaavaan\")    popularity: 67\n",
      "0lks2Kt9veMOFEAPN0fsqN      Lily    popularity: 75\n",
      "1bKqht1RIl27O5NwbeCXZb      Alvida (From \"Life in a Metro\")    popularity: 18\n",
      "1fL14sJ7Dv1RTMYEnPx9Iw      Jatt Ludhiyane Da    popularity: 51\n",
      "1feANd8EfcDP5UqSvbheM3      Bekhayali (From \"Kabir Singh\")    popularity: 63\n",
      "5O932cZmzOZGOGZz9RHx20      Khairiyat    popularity: 70\n",
      "2DGa7iaidT5s0qnINlwMjJ      The Spectre    popularity: 72\n",
      "3h6Xvd0lISog6GxTk4X6MK      Uska Hi Banana (From \"1920 Evil Returns\")    popularity: 55\n",
      "4n7jnSxVLd8QioibtTDBDq      On My Way    popularity: 76\n"
     ]
    }
   ],
   "source": [
    "r=sp.current_user_top_tracks(limit=50)\n",
    "for x in r['items']:\n",
    "    print(x['id']+'      '+x['name'] + '    popularity: ' + str(x['popularity']))\n",
    "    "
   ]
  },
  {
   "cell_type": "code",
   "execution_count": 53,
   "metadata": {},
   "outputs": [
    {
     "data": {
      "text/plain": [
       "'Saibo'"
      ]
     },
     "execution_count": 53,
     "metadata": {},
     "output_type": "execute_result"
    }
   ],
   "source": [
    "r=sp.currently_playing()\n",
    "r['item']['name']"
   ]
  },
  {
   "cell_type": "code",
   "execution_count": 103,
   "metadata": {},
   "outputs": [
    {
     "name": "stdout",
     "output_type": "stream",
     "text": [
      "My Heart Will Go On - Love Theme from \"Titanic\"\n",
      "Love Me Like You Do\n",
      "I Need Your Love (feat. Ellie Goulding)\n",
      "Burn\n",
     ]
    },
    {
     "name": "stdout",
     "output_type": "stream",
     "text": [
      "good 4 u\n",
      "MONTERO (Call Me By Your Name)\n",
      "Kiss Me More (feat. SZA)\n",
      "Peaches (feat. Daniel Caesar & Giveon)\n",
      "Daru Band\n",
      "Mauja Hi Mauja-Saj Dhaj Ke\n",
      "Bhare Bazaar\n",
      "Poster Lagwa Do (From \"Luka Chuppi\")\n",
      "Let You Down\n",
      "12\n"
     ]
    }
   ],
   "source": [
    "#user playlist tracks\n",
    "num_playlist=0\n",
    "t=sp.current_user_playlists()\n",
    "for x in t['items']:\n",
    "    num_playlist+=1\n",
    "    y=sp.playlist_tracks(x['id'])\n",
    "    for p in y['items']:\n",
    "        print(p['track']['name'])\n",
    "print(num_playlist)"
   ]
  },
  {
   "cell_type": "code",
   "execution_count": 86,
   "metadata": {},
   "outputs": [
    {
     "name": "stdout",
     "output_type": "stream",
     "text": [
      "dict_keys(['href', 'items', 'limit', 'next', 'offset', 'previous', 'total'])\n",
      "Best of Me      NEFFEX\n",
      "Best of Me Vishal Shekhar      Vishal-Shekhar\n",
      "Sonu Nigam: Best of Me      Sonu Nigam\n",
      "Best of Me: The Collection      NEFFEX\n",
      "Best of Me Pritam      Pritam\n",
      "KK: Best of Me      KK\n",
      "Best of Me      John K\n",
      "Best of Me: Mohit Chauhan      Mohit Chauhan\n",
      "Best of Me Shaan      Shaan\n",
      "Best Part of Me (feat. YEBBA)      Ed Sheeran\n"
     ]
    }
   ],
   "source": [
    "test=sp.search('Best of me', type=track)\n",
    "print(test['albums'].keys())\n",
    "for it in test['albums']['items']:\n",
    "#     print(it.keys())\n",
    "    print(it['name'] +'      '+ it['artists'][0]['name'])"
   ]
  },
  {
   "cell_type": "code",
   "execution_count": null,
   "metadata": {
    "scrolled": true
   },
   "outputs": [],
   "source": [
    "sp.user_playlist_create('lo72akij4pf4icxnv99cz0p6w',name=' ME the BEST')\n"
   ]
  },
  {
   "cell_type": "code",
   "execution_count": 104,
   "metadata": {},
   "outputs": [
    {
     "data": {
      "text/plain": [
       "{'snapshot_id': 'MixmY2VjNjc4ZjZlNjgyOTc3ZTVkNjBkMzhlN2ExNGFiYWQyMmIxYzEw'}"
      ]
     },
     "execution_count": 104,
     "metadata": {},
     "output_type": "execute_result"
    }
   ],
   "source": [
    "sp.user_playlist_add_tracks(username, '7D7YLJtWEbo9Qrs1gK705Y', ['66YtIqT0kN4958EXnCnAmE','6udC4b4jOSnHb9ItnXgKLR','5p7ujcrUXASCNwRaWNHR1C'] )"
   ]
  },
  {
   "cell_type": "code",
   "execution_count": 105,
   "metadata": {},
   "outputs": [
    {
     "name": "stdout",
     "output_type": "stream",
     "text": [
      "Legends Never Die - (Remix)\n",
      "Saibo\n",
      "Without Me\n"
     ]
    }
   ],
   "source": [
    "y=sp.playlist_tracks('7D7YLJtWEbo9Qrs1gK705Y')\n",
    "for p in y['items']:\n",
    "    print(p['track']['name'])"
   ]
  },
  {
   "cell_type": "code",
   "execution_count": 110,
   "metadata": {},
   "outputs": [
    {
     "data": {
      "text/plain": [
       "[{'danceability': 0.404,\n",
       "  'energy': 0.81,\n",
       "  'key': 9,\n",
       "  'loudness': -4.033,\n",
       "  'mode': 0,\n",
       "  'speechiness': 0.189,\n",
       "  'acousticness': 0.164,\n",
       "  'instrumentalness': 0,\n",
       "  'liveness': 0.504,\n",
       "  'valence': 0.34,\n",
       "  'tempo': 154.918,\n",
       "  'type': 'audio_features',\n",
       "  'id': '66YtIqT0kN4958EXnCnAmE',\n",
       "  'uri': 'spotify:track:66YtIqT0kN4958EXnCnAmE',\n",
       "  'track_href': 'https://api.spotify.com/v1/tracks/66YtIqT0kN4958EXnCnAmE',\n",
       "  'analysis_url': 'https://api.spotify.com/v1/audio-analysis/66YtIqT0kN4958EXnCnAmE',\n",
       "  'duration_ms': 167173,\n",
       "  'time_signature': 4}]"
      ]
     },
     "execution_count": 110,
     "metadata": {},
     "output_type": "execute_result"
    }
   ],
   "source": [
    "sp.audio_features('66YtIqT0kN4958EXnCnAmE')"
   ]
  },
  {
   "cell_type": "code",
   "execution_count": null,
   "metadata": {},
   "outputs": [],
   "source": []
  }
 ],
 "metadata": {
  "kernelspec": {
   "display_name": "Python 3",
   "language": "python",
   "name": "python3"
  },
  "language_info": {
   "codemirror_mode": {
    "name": "ipython",
    "version": 3
   },
   "file_extension": ".py",
   "mimetype": "text/x-python",
   "name": "python",
   "nbconvert_exporter": "python",
   "pygments_lexer": "ipython3",
   "version": "3.7.7"
  }
 },
 "nbformat": 4,
 "nbformat_minor": 4
}
