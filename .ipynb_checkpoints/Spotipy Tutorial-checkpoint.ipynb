{
 "cells": [
  {
   "cell_type": "code",
   "execution_count": null,
   "metadata": {},
   "outputs": [],
   "source": [
    "!pip install spotipy"
   ]
  },
  {
   "cell_type": "code",
   "execution_count": null,
   "metadata": {},
   "outputs": [],
   "source": [
    "import spotipy\n",
    "from spotipy import SpotifyClientCredentials, util\n",
    "import pandas as pd\n",
    "import os\n",
    "\n",
    "os.environ['SPOTIPY_CLIENT_ID'] ='enter id'\n",
    "os.environ['SPOTIPY_CLIENT_SECRET'] ='enter id'\n",
    "os.environ['SPOTIPY_REDIRECT_URI'] ='http://bhuvanaggarwal.tech/'\n",
    "\n",
    "username = 'enter id'"
   ]
  },
  {
   "cell_type": "code",
   "execution_count": null,
   "metadata": {
    "scrolled": false
   },
   "outputs": [],
   "source": [
    "import spotipy\n",
    "from spotipy.oauth2 import SpotifyOAuth\n",
    "scope = \"user-read-private, streaming, playlist-read-collaborative, user-library-read,user-read-email, playlist-read-private, user-read-playback-position, user-library-modify, user-follow-read, user-read-currently-playing, user-follow-modify, playlist-modify-private, user-modify-playback-state, playlist-modify-public, app-remote-control, user-top-read, user-read-playback-state, user-read-recently-played,\"\n",
    "sp = spotipy.Spotify(auth_manager=SpotifyOAuth(scope=scope))"
   ]
  },
  {
   "cell_type": "code",
   "execution_count": null,
   "metadata": {},
   "outputs": [],
   "source": [
    "results = sp.current_user_recently_played()\n",
    "for idx, item in enumerate(results['items']):\n",
    "    track = item['track']\n",
    "    print(idx, track['artists'][0]['name'], \" – \", track['name'])"
   ]
  },
  {
   "cell_type": "code",
   "execution_count": null,
   "metadata": {},
   "outputs": [],
   "source": [
    "res=sp.current_user_top_artists()\n",
    "for x in res['items']:\n",
    "    print(x['name'])"
   ]
  },
  {
   "cell_type": "code",
   "execution_count": null,
   "metadata": {},
   "outputs": [],
   "source": [
    "r=sp.current_user_top_tracks(limit=50)\n",
    "for x in r['items']:\n",
    "    print(x['id']+'      '+x['name'] + '    popularity: ' + str(x['popularity']))\n",
    "    "
   ]
  },
  {
   "cell_type": "code",
   "execution_count": null,
   "metadata": {},
   "outputs": [],
   "source": [
    "r=sp.currently_playing()\n",
    "r['item']['name']"
   ]
  },
  {
   "cell_type": "code",
   "execution_count": null,
   "metadata": {},
   "outputs": [],
   "source": [
    "#user playlist tracks\n",
    "num_playlist=0\n",
    "t=sp.current_user_playlists()\n",
    "for x in t['items']:\n",
    "    num_playlist+=1\n",
    "    y=sp.playlist_tracks(x['id'])\n",
    "    for p in y['items']:\n",
    "        print(p['track']['name'])\n",
    "print(num_playlist)"
   ]
  },
  {
   "cell_type": "code",
   "execution_count": null,
   "metadata": {},
   "outputs": [],
   "source": [
    "test=sp.search('Best of me', type=track)\n",
    "print(test['albums'].keys())\n",
    "for it in test['albums']['items']:\n",
    "#     print(it.keys())\n",
    "    print(it['name'] +'      '+ it['artists'][0]['name'])"
   ]
  },
  {
   "cell_type": "code",
   "execution_count": null,
   "metadata": {
    "scrolled": true
   },
   "outputs": [],
   "source": [
    "sp.user_playlist_create(username,name=' ME the BEST')\n"
   ]
  },
  {
   "cell_type": "code",
   "execution_count": null,
   "metadata": {},
   "outputs": [],
   "source": [
    "sp.user_playlist_add_tracks(username, '7D7YLJtWEbo9Qrs1gK705Y', ['66YtIqT0kN4958EXnCnAmE','6udC4b4jOSnHb9ItnXgKLR','5p7ujcrUXASCNwRaWNHR1C'] )"
   ]
  },
  {
   "cell_type": "code",
   "execution_count": null,
   "metadata": {},
   "outputs": [],
   "source": [
    "y=sp.playlist_tracks('7D7YLJtWEbo9Qrs1gK705Y')\n",
    "for p in y['items']:\n",
    "    print(p['track']['name'])"
   ]
  },
  {
   "cell_type": "code",
   "execution_count": null,
   "metadata": {},
   "outputs": [],
   "source": [
    "sp.audio_features('66YtIqT0kN4958EXnCnAmE')"
   ]
  },
  {
   "cell_type": "code",
   "execution_count": null,
   "metadata": {},
   "outputs": [],
   "source": []
  }
 ],
 "metadata": {
  "kernelspec": {
   "display_name": "Python 3",
   "language": "python",
   "name": "python3"
  },
  "language_info": {
   "codemirror_mode": {
    "name": "ipython",
    "version": 3
   },
   "file_extension": ".py",
   "mimetype": "text/x-python",
   "name": "python",
   "nbconvert_exporter": "python",
   "pygments_lexer": "ipython3",
   "version": "3.7.7"
  }
 },
 "nbformat": 4,
 "nbformat_minor": 4
}
