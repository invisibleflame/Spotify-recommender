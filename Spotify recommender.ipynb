{
 "cells": [
  {
   "cell_type": "code",
   "execution_count": 5,
   "metadata": {},
   "outputs": [],
   "source": [
    "import os\n",
    "import spotipy\n",
    "from spotipy import SpotifyClientCredentials, util\n",
    "import pandas as pd\n",
    "import os\n",
    "\n",
    "os.environ['SPOTIPY_CLIENT_ID'] ='enter client id'\n",
    "os.environ['SPOTIPY_CLIENT_SECRET'] ='enter id'\n",
    "os.environ['SPOTIPY_REDIRECT_URI'] ='http://bhuvanaggarwal.tech/'\n",
    "\n",
    "username = 'enter username'\n"
   ]
  },
  {
   "cell_type": "code",
   "execution_count": 6,
   "metadata": {},
   "outputs": [],
   "source": [
    "import spotipy\n",
    "from spotipy.oauth2 import SpotifyOAuth\n",
    "scope = \"user-read-private, streaming, playlist-read-collaborative, user-library-read,user-read-email, playlist-read-private, user-read-playback-position, user-library-modify, user-follow-read, user-read-currently-playing, user-follow-modify, playlist-modify-private, user-modify-playback-state, playlist-modify-public, app-remote-control, user-top-read, user-read-playback-state, user-read-recently-played,\"\n",
    "sp = spotipy.Spotify(auth_manager=SpotifyOAuth(scope=scope))"
   ]
  },
  {
   "cell_type": "code",
   "execution_count": 8,
   "metadata": {},
   "outputs": [],
   "source": [
    "import numpy as np\n",
    "import pandas as pd\n",
    "import matplotlib.pyplot as plt\n",
    "import seaborn as sns\n",
    "import spotipy\n",
    "import os\n",
    "%matplotlib inline\n",
    "\n",
    "## Reading the Data\n",
    "\n",
    "spotify_data = pd.read_csv('data_spotifyV2.csv')"
   ]
  },
  {
   "cell_type": "code",
   "execution_count": 9,
   "metadata": {},
   "outputs": [
    {
     "data": {
      "text/html": [
       "<div>\n",
       "<style scoped>\n",
       "    .dataframe tbody tr th:only-of-type {\n",
       "        vertical-align: middle;\n",
       "    }\n",
       "\n",
       "    .dataframe tbody tr th {\n",
       "        vertical-align: top;\n",
       "    }\n",
       "\n",
       "    .dataframe thead th {\n",
       "        text-align: right;\n",
       "    }\n",
       "</style>\n",
       "<table border=\"1\" class=\"dataframe\">\n",
       "  <thead>\n",
       "    <tr style=\"text-align: right;\">\n",
       "      <th></th>\n",
       "      <th>id</th>\n",
       "      <th>name</th>\n",
       "      <th>popularity</th>\n",
       "      <th>duration_ms</th>\n",
       "      <th>explicit</th>\n",
       "      <th>artists</th>\n",
       "      <th>id_artists</th>\n",
       "      <th>release_date</th>\n",
       "      <th>danceability</th>\n",
       "      <th>energy</th>\n",
       "      <th>key</th>\n",
       "      <th>loudness</th>\n",
       "      <th>mode</th>\n",
       "      <th>speechiness</th>\n",
       "      <th>acousticness</th>\n",
       "      <th>instrumentalness</th>\n",
       "      <th>liveness</th>\n",
       "      <th>valence</th>\n",
       "      <th>tempo</th>\n",
       "    </tr>\n",
       "  </thead>\n",
       "  <tbody>\n",
       "    <tr>\n",
       "      <th>0</th>\n",
       "      <td>35iwgR4jXetI318WEWsa1Q</td>\n",
       "      <td>Carve</td>\n",
       "      <td>6</td>\n",
       "      <td>126903</td>\n",
       "      <td>0</td>\n",
       "      <td>['Uli']</td>\n",
       "      <td>['45tIt06XoI0Iio4LBEVpls']</td>\n",
       "      <td>1922-02-22</td>\n",
       "      <td>0.645</td>\n",
       "      <td>0.4450</td>\n",
       "      <td>0</td>\n",
       "      <td>-13.338</td>\n",
       "      <td>1</td>\n",
       "      <td>0.4510</td>\n",
       "      <td>0.674</td>\n",
       "      <td>0.7440</td>\n",
       "      <td>0.151</td>\n",
       "      <td>0.127</td>\n",
       "      <td>104.851</td>\n",
       "    </tr>\n",
       "    <tr>\n",
       "      <th>1</th>\n",
       "      <td>021ht4sdgPcrDgSk7JTbKY</td>\n",
       "      <td>Capítulo 2.16 - Banquero Anarquista</td>\n",
       "      <td>0</td>\n",
       "      <td>98200</td>\n",
       "      <td>0</td>\n",
       "      <td>['Fernando Pessoa']</td>\n",
       "      <td>['14jtPCOoNZwquk5wd9DxrY']</td>\n",
       "      <td>1922-06-01</td>\n",
       "      <td>0.695</td>\n",
       "      <td>0.2630</td>\n",
       "      <td>0</td>\n",
       "      <td>-22.136</td>\n",
       "      <td>1</td>\n",
       "      <td>0.9570</td>\n",
       "      <td>0.797</td>\n",
       "      <td>0.0000</td>\n",
       "      <td>0.148</td>\n",
       "      <td>0.655</td>\n",
       "      <td>102.009</td>\n",
       "    </tr>\n",
       "    <tr>\n",
       "      <th>2</th>\n",
       "      <td>07A5yehtSnoedViJAZkNnc</td>\n",
       "      <td>Vivo para Quererte - Remasterizado</td>\n",
       "      <td>0</td>\n",
       "      <td>181640</td>\n",
       "      <td>0</td>\n",
       "      <td>['Ignacio Corsini']</td>\n",
       "      <td>['5LiOoJbxVSAMkBS2fUm3X2']</td>\n",
       "      <td>1922-03-21</td>\n",
       "      <td>0.434</td>\n",
       "      <td>0.1770</td>\n",
       "      <td>1</td>\n",
       "      <td>-21.180</td>\n",
       "      <td>1</td>\n",
       "      <td>0.0512</td>\n",
       "      <td>0.994</td>\n",
       "      <td>0.0218</td>\n",
       "      <td>0.212</td>\n",
       "      <td>0.457</td>\n",
       "      <td>130.418</td>\n",
       "    </tr>\n",
       "    <tr>\n",
       "      <th>3</th>\n",
       "      <td>08FmqUhxtyLTn6pAh6bk45</td>\n",
       "      <td>El Prisionero - Remasterizado</td>\n",
       "      <td>0</td>\n",
       "      <td>176907</td>\n",
       "      <td>0</td>\n",
       "      <td>['Ignacio Corsini']</td>\n",
       "      <td>['5LiOoJbxVSAMkBS2fUm3X2']</td>\n",
       "      <td>1922-03-21</td>\n",
       "      <td>0.321</td>\n",
       "      <td>0.0946</td>\n",
       "      <td>7</td>\n",
       "      <td>-27.961</td>\n",
       "      <td>1</td>\n",
       "      <td>0.0504</td>\n",
       "      <td>0.995</td>\n",
       "      <td>0.9180</td>\n",
       "      <td>0.104</td>\n",
       "      <td>0.397</td>\n",
       "      <td>169.980</td>\n",
       "    </tr>\n",
       "    <tr>\n",
       "      <th>4</th>\n",
       "      <td>08y9GfoqCWfOGsKdwojr5e</td>\n",
       "      <td>Lady of the Evening</td>\n",
       "      <td>0</td>\n",
       "      <td>163080</td>\n",
       "      <td>0</td>\n",
       "      <td>['Dick Haymes']</td>\n",
       "      <td>['3BiJGZsyX9sJchTqcSA7Su']</td>\n",
       "      <td>1922</td>\n",
       "      <td>0.402</td>\n",
       "      <td>0.1580</td>\n",
       "      <td>3</td>\n",
       "      <td>-16.900</td>\n",
       "      <td>0</td>\n",
       "      <td>0.0390</td>\n",
       "      <td>0.989</td>\n",
       "      <td>0.1300</td>\n",
       "      <td>0.311</td>\n",
       "      <td>0.196</td>\n",
       "      <td>103.220</td>\n",
       "    </tr>\n",
       "  </tbody>\n",
       "</table>\n",
       "</div>"
      ],
      "text/plain": [
       "                       id                                 name  popularity  \\\n",
       "0  35iwgR4jXetI318WEWsa1Q                                Carve           6   \n",
       "1  021ht4sdgPcrDgSk7JTbKY  Capítulo 2.16 - Banquero Anarquista           0   \n",
       "2  07A5yehtSnoedViJAZkNnc   Vivo para Quererte - Remasterizado           0   \n",
       "3  08FmqUhxtyLTn6pAh6bk45        El Prisionero - Remasterizado           0   \n",
       "4  08y9GfoqCWfOGsKdwojr5e                  Lady of the Evening           0   \n",
       "\n",
       "   duration_ms  explicit              artists                  id_artists  \\\n",
       "0       126903         0              ['Uli']  ['45tIt06XoI0Iio4LBEVpls']   \n",
       "1        98200         0  ['Fernando Pessoa']  ['14jtPCOoNZwquk5wd9DxrY']   \n",
       "2       181640         0  ['Ignacio Corsini']  ['5LiOoJbxVSAMkBS2fUm3X2']   \n",
       "3       176907         0  ['Ignacio Corsini']  ['5LiOoJbxVSAMkBS2fUm3X2']   \n",
       "4       163080         0      ['Dick Haymes']  ['3BiJGZsyX9sJchTqcSA7Su']   \n",
       "\n",
       "  release_date  danceability  energy  key  loudness  mode  speechiness  \\\n",
       "0   1922-02-22         0.645  0.4450    0   -13.338     1       0.4510   \n",
       "1   1922-06-01         0.695  0.2630    0   -22.136     1       0.9570   \n",
       "2   1922-03-21         0.434  0.1770    1   -21.180     1       0.0512   \n",
       "3   1922-03-21         0.321  0.0946    7   -27.961     1       0.0504   \n",
       "4         1922         0.402  0.1580    3   -16.900     0       0.0390   \n",
       "\n",
       "   acousticness  instrumentalness  liveness  valence    tempo  \n",
       "0         0.674            0.7440     0.151    0.127  104.851  \n",
       "1         0.797            0.0000     0.148    0.655  102.009  \n",
       "2         0.994            0.0218     0.212    0.457  130.418  \n",
       "3         0.995            0.9180     0.104    0.397  169.980  \n",
       "4         0.989            0.1300     0.311    0.196  103.220  "
      ]
     },
     "execution_count": 9,
     "metadata": {},
     "output_type": "execute_result"
    }
   ],
   "source": [
    "spotify_data=spotify_data.drop(['time_signature'],axis=1)\n",
    "spotify_data.head()"
   ]
  },
  {
   "cell_type": "code",
   "execution_count": 10,
   "metadata": {},
   "outputs": [
    {
     "name": "stdout",
     "output_type": "stream",
     "text": [
      "[Pipeline] ............ (step 1 of 2) Processing scaler, total=   0.2s\n"
     ]
    },
    {
     "name": "stderr",
     "output_type": "stream",
     "text": [
      "c:\\users\\bhuvan\\appdata\\local\\programs\\python\\python37\\lib\\site-packages\\sklearn\\cluster\\_kmeans.py:974: FutureWarning: 'n_jobs' was deprecated in version 0.23 and will be removed in 0.25.\n",
      "  \" removed in 0.25.\", FutureWarning)\n"
     ]
    },
    {
     "name": "stdout",
     "output_type": "stream",
     "text": [
      "Initialization complete\n",
      
      "Converged at iteration 32: center shift 5.893771390631988e-06 within tolerance 6.030983260151569e-06\n",
      "Initialization complete\n",
     
      "Converged at iteration 57: center shift 3.7232504915850843e-06 within tolerance 6.030983260151569e-06\n",
      "Initialization complete\n",
      
      "Converged at iteration 61: center shift 5.094452041200363e-06 within tolerance 6.030983260151569e-06\n",
      "Initialization complete\n",
     
      "Converged at iteration 39: center shift 5.823040668037579e-06 within tolerance 6.030983260151569e-06\n"
     ]
    },
    {
     "name": "stdout",
     "output_type": "stream",
     "text": [
      "Initialization complete\n",
      
      "Converged at iteration 24: center shift 5.5042848309905095e-06 within tolerance 6.030983260151569e-06\n",
      
      "Converged at iteration 36: center shift 5.399541585383989e-06 within tolerance 6.030983260151569e-06\n",
      "Initialization complete\n",
      
      "Converged at iteration 42: center shift 3.7754817848543484e-06 within tolerance 6.030983260151569e-06\n",
      
     ]
    },
    {
     "name": "stdout",
     "output_type": "stream",
     "text": [
     
      "Converged at iteration 33: center shift 4.991904899246279e-06 within tolerance 6.030983260151569e-06\n",
      "[Pipeline] ............ (step 2 of 2) Processing kmeans, total=  44.9s\n"
     ]
    }
   ],
   "source": [
    "## Clustering Songs\n",
    "from sklearn.cluster import KMeans\n",
    "from sklearn.preprocessing import StandardScaler, MinMaxScaler\n",
    "from sklearn.pipeline import Pipeline\n",
    "song_cluster_pipeline = Pipeline([('scaler', MinMaxScaler()), \n",
    "                                  ('kmeans', KMeans(n_clusters=20, \n",
    "                                   verbose=2, n_jobs=4))], verbose=True)\n",
    "X = spotify_data.select_dtypes(np.number)\n",
    "number_cols = list(X.columns)\n",
    "song_cluster_pipeline.fit(X)\n"
   ]
  },
  {
   "cell_type": "code",
   "execution_count": 11,
   "metadata": {},
   "outputs": [],
   "source": [
    "def find_song(name):\n",
    "    \n",
    "    song_data = defaultdict()\n",
    "    results = sp.search(q= 'track: {} '.format(name), limit=1)\n",
    "    if results['tracks']['items'] == []:\n",
    "        return None\n",
    "    \n",
    "    results = results['tracks']['items'][0]\n",
    "\n",
    "    track_id = results['id']\n",
    "    audio_features = sp.audio_features(track_id)[0]\n",
    "    \n",
    "    song_data['name'] = [name]\n",
    "    # song_data['year'] = [year]\n",
    "    song_data['explicit'] = [int(results['explicit'])]\n",
    "    song_data['duration_ms'] = [results['duration_ms']]\n",
    "    song_data['popularity'] = [results['popularity']]\n",
    "    \n",
    "    for key, value in audio_features.items():\n",
    "        song_data[key] = value\n",
    "    \n",
    "    return pd.DataFrame(song_data)"
   ]
  },
  {
   "cell_type": "code",
   "execution_count": 33,
   "metadata": {},
   "outputs": [],
   "source": [
    "from collections import defaultdict\n",
    "from sklearn.metrics import euclidean_distances\n",
    "from scipy.spatial.distance import cdist\n",
    "import difflib\n",
    "\n",
    "number_cols = ['popularity', 'duration_ms', 'explicit', 'danceability', 'energy', 'key',\n",
    " 'loudness', 'mode', 'speechiness', 'acousticness', 'instrumentalness', 'liveness', 'valence', 'tempo']\n",
    "\n",
    "def get_song_data(song, spotify_data):\n",
    "    \n",
    "    try:\n",
    "        song_data = spotify_data[(spotify_data['name'] == song['name'])].iloc[0]\n",
    "        return song_data\n",
    "    \n",
    "    except IndexError:\n",
    "        return find_song(song['name'])\n",
    "        \n",
    "\n",
    "def get_mean_vector(song_list, spotify_data):\n",
    "    \n",
    "    song_vectors = []\n",
    "    \n",
    "    for song in song_list:\n",
    "        song_data = get_song_data(song, spotify_data)\n",
    "        if song_data is None:\n",
    "            print('Warning: {} does not exist in Spotify or in database'.format(song['name']))\n",
    "            continue\n",
    "        song_vector = song_data[number_cols].values\n",
    "        song_vectors.append(song_vector)  \n",
    "    \n",
    "    song_matrix = np.array(list(song_vectors))\n",
    "    return np.mean(song_matrix, axis=0)\n",
    "\n",
    "def flatten_dict_list(dict_list):\n",
    "    \n",
    "    flattened_dict = defaultdict()\n",
    "    for key in dict_list[0].keys():\n",
    "        flattened_dict[key] = []\n",
    "    \n",
    "    for dictionary in dict_list:\n",
    "        for key, value in dictionary.items():\n",
    "            flattened_dict[key].append(value)\n",
    "            \n",
    "    return flattened_dict\n",
    "        \n",
    "\n",
    "def recommend_songs( song_list, spotify_data, n_songs=10):\n",
    "    \n",
    "    metadata_cols = ['name', 'artists','id']\n",
    "    song_dict = flatten_dict_list(song_list)\n",
    "    song_center = get_mean_vector(song_list, spotify_data)\n",
    "    scaler = song_cluster_pipeline.steps[0][1]\n",
    "    scaled_data = scaler.transform(spotify_data[number_cols])\n",
    "    scaled_song_center = scaler.transform(song_center.reshape(1, -1))\n",
    "    distances = cdist(scaled_song_center, scaled_data, 'cosine')\n",
    "    index = list(np.argsort(distances)[:, :n_songs][0])\n",
    "    rec_songs = spotify_data.iloc[index]\n",
    "    rec_songs = rec_songs[~rec_songs['name'].isin(song_dict['name'])]\n",
    "    return rec_songs[metadata_cols].to_dict(orient='records')\n"
   ]
  },
  {
   "cell_type": "code",
   "execution_count": 34,
   "metadata": {},
   "outputs": [
    {
     "data": {
      "text/plain": [
       "[{'name': 'Pose',\n",
       "  'artists': \"['Daddy Yankee']\",\n",
       "  'id': '5BB5zjzCzo9M3uOKzhiXZB'},\n",
       " {'name': 'Que Calor (feat. J Balvin & El Alfa)',\n",
       "  'artists': \"['Major Lazer', 'J Balvin', 'El Alfa', 'Diplo']\",\n",
       "  'id': '1RKZvaLj3UPhGjZkaIrFm7'},\n",
       " {'name': 'Que Calor',\n",
       "  'artists': \"['Major Lazer', 'J Balvin', 'El Alfa']\",\n",
       "  'id': '1sviDBcAqVOxMXq4xITVEs'},\n",
       " {'name': 'Come With Me - Radio Edit',\n",
       "  'artists': \"['Special D.']\",\n",
       "  'id': '3qLhHLgFCvq6YEzqZhCPEd'},\n",
       " {'name': 'No Lie',\n",
       "  'artists': \"['Sean Paul', 'Dua Lipa']\",\n",
       "  'id': '48QmG1dfvMuYLxMPt7KSRA'},\n",
       " {'name': 'Give Me Everything (feat. Ne-Yo, Afrojack & Nayer)',\n",
       "  'artists': \"['Pitbull', 'Ne-Yo', 'Afrojack', 'Nayer']\",\n",
       "  'id': '4QNpBfC0zvjKqPJcyqBy9W'},\n",
       " {'name': 'I Found You (with Calvin Harris)',\n",
       "  'artists': \"['benny blanco', 'Calvin Harris']\",\n",
       "  'id': '5sdb5pMhcK44SSLsj1moUh'},\n",
       " {'name': 'Que Calor',\n",
       "  'artists': \"['Major Lazer', 'J Balvin', 'El Alfa', 'Diplo']\",\n",
       "  'id': '2jozk0z8f2VISmr83Leyqh'},\n",
       " {'name': 'Everytime We Touch',\n",
       "  'artists': \"['Cascada']\",\n",
       "  'id': '5YJtMNWKe55yr49cyJgxva'},\n",
       " {'name': 'Dus Bahane 2.0 (From \"Baaghi 3\") (feat. K.K., Shaan, Tulsi Kumar)',\n",
       "  'artists': \"['Vishal Dadlani', 'Shekhar Ravjiani', 'Vishal-Shekhar']\",\n",
       "  'id': '0z9lOAVgQT5bysEKZ6Wwbk'}]"
      ]
     },
     "execution_count": 34,
     "metadata": {},
     "output_type": "execute_result"
    }
   ],
   "source": [
    "recommend_songs([{'name': 'best of me'},{'name':'la la la shakira'},{'name':'light it up'},{'name':'legends never die'}],  spotify_data)"
   ]
  },
  {
   "cell_type": "markdown",
   "metadata": {},
   "source": [
    "# Song recommendation based on user's current playing queue i.e current mood "
   ]
  },
  {
   "cell_type": "code",
   "execution_count": 41,
   "metadata": {},
   "outputs": [],
   "source": [
    "song_input=[]\n",
    "history=[]\n",
    "results = sp.current_user_recently_played()\n",
    "for idx, item in enumerate(results['items']):\n",
    "    track = item['track']\n",
    "    if track['name'] not in history:\n",
    "        history.append(track['name'])\n",
    "        song_input.append({'name':track['name'] }  )\n",
    "#     print(idx, track['artists'][0]['name'], \" – \", track['name'])"
   ]
  },
  {
   "cell_type": "code",
   "execution_count": 42,
   "metadata": {},
   "outputs": [
    {
     "name": "stdout",
     "output_type": "stream",
     "text": [
      "[{'name': 'Burn'}, {'name': 'Legends Never Die - (Remix)'}, {'name': 'Best of Me'}, {'name': 'Saibo'}, {'name': '7 rings'}, {'name': 'Light It Up'}, {'name': 'My Heart Will Go On - Love Theme from \"Titanic\"'}, {'name': 'Blank Space'}, {'name': 'Last Friday Night (T.G.I.F.)'}, {'name': 'Firework'}, {'name': 'Love The Way You Lie'}, {'name': 'Waka Waka (This Time for Africa) [The Official 2010 FIFA World Cup (TM) Song] (feat. Freshlyground)'}, {'name': 'La Bicicleta (feat. Maluma) - Remix'}, {'name': 'La La La'}, {'name': 'Wrecking Ball'}]\n"
     ]
    }
   ],
   "source": [
    "print(song_input)"
   ]
  },
  {
   "cell_type": "code",
   "execution_count": 43,
   "metadata": {},
   "outputs": [
    {
     "name": "stdout",
     "output_type": "stream",
     "text": [
      "Like Ooh-Ahh   ['TWICE']   3c0CJ0DBgsGZ7I79lyx02Z\n",
      "Desejando Eu (Ao Vivo)   ['Murilo Huff', 'Henrique & Juliano']   3056x1XkmICnQmji68rrft\n",
      "Give Me Everything (feat. Ne-Yo, Afrojack & Nayer)   ['Pitbull', 'Ne-Yo', 'Afrojack', 'Nayer']   4QNpBfC0zvjKqPJcyqBy9W\n",
      "Come on over Baby (All I Want Is You) - Radio Version   ['Christina Aguilera']   7A0apkTSTvMbSI7yplcmlh\n",
      "Teri Bhabhi (From \"Coolie No. 1\")   ['Javed-Mohsin', 'Dev Negi', 'Neha Kakkar']   2a2v7Kt7xS6TsuH9U0KiUJ\n",
      "Girls Just Want to Have Fun   ['Cyndi Lauper']   4y1LsJpmMti1PfRQV9AWWe\n",
      "Fake ID   ['Riton', 'Kah-Lo']   4qq73N1TKocRaYGQS23b9u\n",
      "All For Love   ['Tungevaag', 'Raaban', 'Richard Smitt']   5VGBgPVFO3e0lWz4WHYntQ\n",
      "Nicht verdient   ['Michelle', 'Matthias Reim']   61BVrOj4m7VExiFpw7z7zF\n",
      "Like OOH-AHH   ['TWICE']   2SivUkzgql54t0O4dH1b7O\n"
     ]
    }
   ],
   "source": [
    "output=recommend_songs(song_input,spotify_data)\n",
    "for item in output:\n",
    "    print(item['name']+'   '+item['artists']+'   '+ item['id'])"
   ]
  },
  {
   "cell_type": "code",
   "execution_count": 44,
   "metadata": {},
   "outputs": [
    {
     "name": "stdout",
     "output_type": "stream",
     "text": [
      "['3c0CJ0DBgsGZ7I79lyx02Z', '3056x1XkmICnQmji68rrft', '4QNpBfC0zvjKqPJcyqBy9W', '7A0apkTSTvMbSI7yplcmlh', '2a2v7Kt7xS6TsuH9U0KiUJ', '4y1LsJpmMti1PfRQV9AWWe', '4qq73N1TKocRaYGQS23b9u', '5VGBgPVFO3e0lWz4WHYntQ', '61BVrOj4m7VExiFpw7z7zF', '2SivUkzgql54t0O4dH1b7O']\n"
     ]
    }
   ],
   "source": [
    "song_ids=[item['id'] for item in output]\n",
    "print(song_ids)"
   ]
  },
  {
   "cell_type": "code",
   "execution_count": 40,
   "metadata": {},
   "outputs": [
    {
     "data": {
      "text/plain": [
       "{'snapshot_id': 'NixjZmIyM2VjM2QwZGY0MjEzNWNkOTkyNmM1MDRhY2EwN2RiMTNlYzJl'}"
      ]
     },
     "execution_count": 40,
     "metadata": {},
     "output_type": "execute_result"
    }
   ],
   "source": [
    "playlist_id= '7D7YLJtWEbo9Qrs1gK705Y' # add the id of your playlist or make a new one, code given in tutorial file. \n",
    "#you can also use add_to_queue if you have spotify premium.\n",
    "sp.user_playlist_add_tracks(username, playlist_id , song_ids)"
   ]
  },
  {
   "cell_type": "markdown",
   "metadata": {},
   "source": [
    "# Song recommendation based on user's most played songs i.e general taste\n"
   ]
  },
  {
   "cell_type": "code",
   "execution_count": 45,
   "metadata": {},
   "outputs": [],
   "source": [
    "song_input=[]\n",
    "history=[]\n",
    "results = sp.current_user_top_tracks(limit=50)\n",
    "for item in results['items']:\n",
    "    if item['name'] not in history:\n",
    "        history.append(item['name'])\n",
    "        song_input.append({'name':item['name']}  )"
   ]
  },
  {
   "cell_type": "code",
   "execution_count": 46,
   "metadata": {},
   "outputs": [
    {
     "name": "stdout",
     "output_type": "stream",
     "text": [
      "[{'name': 'Saibo'}, {'name': 'Mann Mera (From \"Table No. 21\")'}, {'name': 'Best of Me'}, {'name': 'O Mere Khuda'}, {'name': 'Deedar De (From \"Chhalaang\")'}, {'name': 'Legends Never Die - (Remix)'}, {'name': 'Filhall'}, {'name': 'Mast Kalandar'}, {'name': 'Dil Chori'}, {'name': 'Light It Up'}, {'name': 'Sauda Khara Khara'}, {'name': 'Makhna'}, {'name': 'Love Me Like You Do - From \"Fifty Shades Of Grey\"'}, {'name': 'On & On'}, {'name': 'Mafiyaan'}, {'name': 'Illegal Weapon 2.0 (From \"Street Dancer 3D\")'}, {'name': 'Love Mashup 2019'}, {'name': 'Pyaar Tenu Karda Gabru (From \"Shubh Mangal Zyada Saavdhan\")'}, {'name': 'The Wakhra Song'}, {'name': 'Señorita'}, {'name': \"Valentine's Mashup 2019\"}, {'name': 'Yaara Teri Yaari'}, {'name': 'Thumka'}, {'name': 'Yaad Piya Ki Aane Lagi'}, {'name': 'Kya Mujhe Pyaar Hai'}, {'name': 'Tera Yaar Hoon Main'}, {'name': 'Care Ni Karda (From \"Chhalaang\")'}, {'name': 'Holi Mashup 2020 –Festival Of Colours (2020) Mashup'}, {'name': 'Malang (Title Track) [From \"Malang - Unleash The Madness\"]'}, {'name': 'Mummy Nu Pasand (From \"Jai Mummy Di\")'}, {'name': 'Kehndi Haan Kehndi Naa'}, {'name': 'Tera Ghata'}, {'name': 'Lean On (with Emiway Bantai)'}, {'name': 'La La La'}, {'name': 'Burn'}, {'name': 'Without Me'}, {'name': 'Hymn for the Weekend'}, {'name': 'Hauli Hauli (From \"De De Pyaar De\")'}, {'name': 'Shayad'}, {'name': 'Ik Mulaqaat'}, {'name': 'Aashiq Banaya Aapne'}, {'name': 'The Jawaani Song'}, {'name': 'Zara Sa'}, {'name': 'Alvida (From \"Life in a Metro\")'}, {'name': 'Ghungroo (From \"War\")'}, {'name': 'Tum Hi Aana (From \"Marjaavaan\")'}, {'name': 'Lily'}, {'name': 'Jatt Ludhiyane Da'}, {'name': 'Bekhayali (From \"Kabir Singh\")'}, {'name': 'Khairiyat'}]\n"
     ]
    }
   ],
   "source": [
    "print(song_input)"
   ]
  },
  {
   "cell_type": "code",
   "execution_count": 47,
   "metadata": {},
   "outputs": [
    {
     "name": "stdout",
     "output_type": "stream",
     "text": [
      "Warning: Alvida (From \"Life in a Metro\") does not exist in Spotify or in database\n",
      "Hush   ['miss A']   0K2UTvyyBPSmr0IccCWNZm\n",
      "Benz ili Bimmer   ['Rasta', 'Alen Sakic']   2Tbx53RP9GkxHyW37mFdnx\n",
      "Simmer (feat. Burna Boy)   ['Mahalia', 'Burna Boy']   4JSEMSiKPVcIEBQIlmGuI3\n",
      "Aç Bağrını   ['Emir Can İğrek']   0J6rBkptkqZkt5g2CgTd5i\n",
      "Waiting For Love   ['Avicii']   2Zr5zgU9qEoOPvJbU0GScq\n",
      "Private Dancer - Single Edit   ['Tina Turner']   623ZeL2lWuz5v03TVkRBZa\n",
      "Pani da Rang (Male)   ['Ayushmann Khurrana']   0ce9G1z2SstCXHJ9gTg6PB\n",
      "Si No Fue Asi   ['Midel', 'Seven Kayne']   1wdAd6JuFOaFfLbzNXPR0Y\n",
      "American Pie   ['Madonna']   3afv9TL8ixr4T9VbiKnrwe\n",
      "Waiting For Love   ['Avicii']   5KY4cDf83wJ03EUCJ3rkaf\n",
      "Tu Velero   ['Galvan Real', 'Calero']   0Tg9V9gcLEOikpDalSBzPu\n",
      "Live In Life   ['The Rubens']   5odolvi4Flv8SeSje9WzcS\n",
      "Beautiful Monster   ['Ne-Yo']   2Q99zPXVqCPN5RaZawvJWZ\n",
      "Sol, arena y mar   ['Luis Miguel']   3pJlTmnEjkf1u9Bualfo8X\n",
      "Dumb Love   ['NEIL FRANCES']   4fDcbHuBbX9qlNSQWnkrHw\n",
      "Rikollinen   ['Vilma Alina']   4wlwmhjih4nAig5Qqc5baE\n",
      "Bu Havada Gidilmez   ['Manuş Baba']   4ajGA8mtD6R2JylEbRLp5n\n",
      "Hei Rose   ['Ollie']   0gB4TX8Ka9TdUwSpihmzNZ\n",
      "Ça va ça vient   ['Vitaa', 'Slimane']   3xbws1uOAaxeTPEviKWONY\n",
      "Duele El Amor   ['Aleks Syntek', 'Ana Torroja']   0oXLSuno5adlHcPzlzs8l6\n"
     ]
    }
   ],
   "source": [
    "output=recommend_songs(song_input,spotify_data,n_songs=20)\n",
    "for item in output:\n",
    "    print(item['name']+'   '+item['artists']+'   '+ item['id'])"
   ]
  },
  {
   "cell_type": "code",
   "execution_count": 48,
   "metadata": {},
   "outputs": [
    {
     "name": "stdout",
     "output_type": "stream",
     "text": [
      "['0K2UTvyyBPSmr0IccCWNZm', '2Tbx53RP9GkxHyW37mFdnx', '4JSEMSiKPVcIEBQIlmGuI3', '0J6rBkptkqZkt5g2CgTd5i', '2Zr5zgU9qEoOPvJbU0GScq', '623ZeL2lWuz5v03TVkRBZa', '0ce9G1z2SstCXHJ9gTg6PB', '1wdAd6JuFOaFfLbzNXPR0Y', '3afv9TL8ixr4T9VbiKnrwe', '5KY4cDf83wJ03EUCJ3rkaf', '0Tg9V9gcLEOikpDalSBzPu', '5odolvi4Flv8SeSje9WzcS', '2Q99zPXVqCPN5RaZawvJWZ', '3pJlTmnEjkf1u9Bualfo8X', '4fDcbHuBbX9qlNSQWnkrHw', '4wlwmhjih4nAig5Qqc5baE', '4ajGA8mtD6R2JylEbRLp5n', '0gB4TX8Ka9TdUwSpihmzNZ', '3xbws1uOAaxeTPEviKWONY', '0oXLSuno5adlHcPzlzs8l6']\n"
     ]
    }
   ],
   "source": [
    "song_ids=[item['id'] for item in output]\n",
    "print(song_ids)"
   ]
  },
  {
   "cell_type": "code",
   "execution_count": 49,
   "metadata": {},
   "outputs": [
    {
     "data": {
      "text/plain": [
       "{'snapshot_id': 'MTcsOWM5MjY3ZGEzNzY4OWI3MGJhMjM0MmRjYTVmOWY0YTVlZDRjYmQwYQ=='}"
      ]
     },
     "execution_count": 49,
     "metadata": {},
     "output_type": "execute_result"
    }
   ],
   "source": [
    "playlist_id= '7D7YLJtWEbo9Qrs1gK705Y' # add the id of your playlist or make a new one, code given in tutorial file. \n",
    "#you can also use add_to_queue if you have spotify premium.\n",
    "sp.user_playlist_add_tracks(username, playlist_id , song_ids)"
   ]
  },
  {
   "cell_type": "code",
   "execution_count": null,
   "metadata": {},
   "outputs": [],
   "source": []
  }
 ],
 "metadata": {
  "kernelspec": {
   "display_name": "Python 3",
   "language": "python",
   "name": "python3"
  },
  "language_info": {
   "codemirror_mode": {
    "name": "ipython",
    "version": 3
   },
   "file_extension": ".py",
   "mimetype": "text/x-python",
   "name": "python",
   "nbconvert_exporter": "python",
   "pygments_lexer": "ipython3",
   "version": "3.7.7"
  }
 },
 "nbformat": 4,
 "nbformat_minor": 4
}
